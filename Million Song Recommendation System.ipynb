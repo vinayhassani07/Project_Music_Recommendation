{
 "cells": [
  {
   "cell_type": "markdown",
   "metadata": {
    "ExecuteTime": {
     "end_time": "2022-01-06T16:40:37.108581Z",
     "start_time": "2022-01-06T16:40:36.198224Z"
    }
   },
   "source": [
    "# Import Modules\n"
   ]
  },
  {
   "cell_type": "code",
   "execution_count": 1,
   "metadata": {
    "ExecuteTime": {
     "end_time": "2022-01-08T07:26:32.686198Z",
     "start_time": "2022-01-08T07:26:32.385003Z"
    }
   },
   "outputs": [],
   "source": [
    "import pandas as pd \n",
    "import numpy as np\n",
    "import nbimporter\n",
    "import Recommenders as recommenders"
   ]
  },
  {
   "cell_type": "markdown",
   "metadata": {
    "ExecuteTime": {
     "end_time": "2022-01-06T16:40:43.708275Z",
     "start_time": "2022-01-06T16:40:43.699299Z"
    }
   },
   "source": [
    "# Loading the dataset"
   ]
  },
  {
   "cell_type": "code",
   "execution_count": 2,
   "metadata": {
    "ExecuteTime": {
     "end_time": "2022-01-08T07:26:34.216108Z",
     "start_time": "2022-01-08T07:26:32.687195Z"
    }
   },
   "outputs": [],
   "source": [
    "song_df_1=pd.read_csv(\"triplets_file.csv\")\n",
    "song_df_2=pd.read_csv(\"song_data.csv\")"
   ]
  },
  {
   "cell_type": "code",
   "execution_count": 3,
   "metadata": {
    "ExecuteTime": {
     "end_time": "2022-01-08T07:26:34.232065Z",
     "start_time": "2022-01-08T07:26:34.217105Z"
    }
   },
   "outputs": [
    {
     "data": {
      "text/html": [
       "<div>\n",
       "<style scoped>\n",
       "    .dataframe tbody tr th:only-of-type {\n",
       "        vertical-align: middle;\n",
       "    }\n",
       "\n",
       "    .dataframe tbody tr th {\n",
       "        vertical-align: top;\n",
       "    }\n",
       "\n",
       "    .dataframe thead th {\n",
       "        text-align: right;\n",
       "    }\n",
       "</style>\n",
       "<table border=\"1\" class=\"dataframe\">\n",
       "  <thead>\n",
       "    <tr style=\"text-align: right;\">\n",
       "      <th></th>\n",
       "      <th>user_id</th>\n",
       "      <th>song_id</th>\n",
       "      <th>listen_count</th>\n",
       "    </tr>\n",
       "  </thead>\n",
       "  <tbody>\n",
       "    <tr>\n",
       "      <th>0</th>\n",
       "      <td>fd50c4007b68a3737fe052d5a4f78ce8aa117f3d</td>\n",
       "      <td>SOBONKR12A58A7A7E0</td>\n",
       "      <td>1</td>\n",
       "    </tr>\n",
       "    <tr>\n",
       "      <th>1</th>\n",
       "      <td>fd50c4007b68a3737fe052d5a4f78ce8aa117f3d</td>\n",
       "      <td>SOEGIYH12A6D4FC0E3</td>\n",
       "      <td>1</td>\n",
       "    </tr>\n",
       "    <tr>\n",
       "      <th>2</th>\n",
       "      <td>fd50c4007b68a3737fe052d5a4f78ce8aa117f3d</td>\n",
       "      <td>SOFLJQZ12A6D4FADA6</td>\n",
       "      <td>1</td>\n",
       "    </tr>\n",
       "    <tr>\n",
       "      <th>3</th>\n",
       "      <td>fd50c4007b68a3737fe052d5a4f78ce8aa117f3d</td>\n",
       "      <td>SOHTKMO12AB01843B0</td>\n",
       "      <td>1</td>\n",
       "    </tr>\n",
       "    <tr>\n",
       "      <th>4</th>\n",
       "      <td>fd50c4007b68a3737fe052d5a4f78ce8aa117f3d</td>\n",
       "      <td>SODQZCY12A6D4F9D11</td>\n",
       "      <td>1</td>\n",
       "    </tr>\n",
       "  </tbody>\n",
       "</table>\n",
       "</div>"
      ],
      "text/plain": [
       "                                    user_id             song_id  listen_count\n",
       "0  fd50c4007b68a3737fe052d5a4f78ce8aa117f3d  SOBONKR12A58A7A7E0             1\n",
       "1  fd50c4007b68a3737fe052d5a4f78ce8aa117f3d  SOEGIYH12A6D4FC0E3             1\n",
       "2  fd50c4007b68a3737fe052d5a4f78ce8aa117f3d  SOFLJQZ12A6D4FADA6             1\n",
       "3  fd50c4007b68a3737fe052d5a4f78ce8aa117f3d  SOHTKMO12AB01843B0             1\n",
       "4  fd50c4007b68a3737fe052d5a4f78ce8aa117f3d  SODQZCY12A6D4F9D11             1"
      ]
     },
     "execution_count": 3,
     "metadata": {},
     "output_type": "execute_result"
    }
   ],
   "source": [
    "song_df_1.head()"
   ]
  },
  {
   "cell_type": "code",
   "execution_count": 4,
   "metadata": {
    "ExecuteTime": {
     "end_time": "2022-01-08T07:26:34.248022Z",
     "start_time": "2022-01-08T07:26:34.233062Z"
    }
   },
   "outputs": [
    {
     "data": {
      "text/html": [
       "<div>\n",
       "<style scoped>\n",
       "    .dataframe tbody tr th:only-of-type {\n",
       "        vertical-align: middle;\n",
       "    }\n",
       "\n",
       "    .dataframe tbody tr th {\n",
       "        vertical-align: top;\n",
       "    }\n",
       "\n",
       "    .dataframe thead th {\n",
       "        text-align: right;\n",
       "    }\n",
       "</style>\n",
       "<table border=\"1\" class=\"dataframe\">\n",
       "  <thead>\n",
       "    <tr style=\"text-align: right;\">\n",
       "      <th></th>\n",
       "      <th>song_id</th>\n",
       "      <th>artist_name</th>\n",
       "      <th>title</th>\n",
       "    </tr>\n",
       "  </thead>\n",
       "  <tbody>\n",
       "    <tr>\n",
       "      <th>0</th>\n",
       "      <td>SOQMMHC12AB0180CB8</td>\n",
       "      <td>Faster Pussy cat</td>\n",
       "      <td>Silent Night</td>\n",
       "    </tr>\n",
       "    <tr>\n",
       "      <th>1</th>\n",
       "      <td>SOVFVAK12A8C1350D9</td>\n",
       "      <td>Karkkiautomaatti</td>\n",
       "      <td>Tanssi vaan</td>\n",
       "    </tr>\n",
       "    <tr>\n",
       "      <th>2</th>\n",
       "      <td>SOGTUKN12AB017F4F1</td>\n",
       "      <td>Hudson Mohawke</td>\n",
       "      <td>No One Could Ever</td>\n",
       "    </tr>\n",
       "    <tr>\n",
       "      <th>3</th>\n",
       "      <td>SOBNYVR12A8C13558C</td>\n",
       "      <td>Yerba Brava</td>\n",
       "      <td>Si Vos Querés</td>\n",
       "    </tr>\n",
       "    <tr>\n",
       "      <th>4</th>\n",
       "      <td>SOHSBXH12A8C13B0DF</td>\n",
       "      <td>Der Mystic</td>\n",
       "      <td>Tangle Of Aspens</td>\n",
       "    </tr>\n",
       "    <tr>\n",
       "      <th>...</th>\n",
       "      <td>...</td>\n",
       "      <td>...</td>\n",
       "      <td>...</td>\n",
       "    </tr>\n",
       "    <tr>\n",
       "      <th>999995</th>\n",
       "      <td>SOTXAME12AB018F136</td>\n",
       "      <td>Kiko Navarro</td>\n",
       "      <td>O Samba Da Vida</td>\n",
       "    </tr>\n",
       "    <tr>\n",
       "      <th>999996</th>\n",
       "      <td>SOXQYIQ12A8C137FBB</td>\n",
       "      <td>Kuldeep Manak</td>\n",
       "      <td>Jago Chhadeo</td>\n",
       "    </tr>\n",
       "    <tr>\n",
       "      <th>999997</th>\n",
       "      <td>SOHODZI12A8C137BB3</td>\n",
       "      <td>Gabriel Le Mar</td>\n",
       "      <td>Novemba</td>\n",
       "    </tr>\n",
       "    <tr>\n",
       "      <th>999998</th>\n",
       "      <td>SOLXGOR12A81C21EB7</td>\n",
       "      <td>Elude</td>\n",
       "      <td>Faraday</td>\n",
       "    </tr>\n",
       "    <tr>\n",
       "      <th>999999</th>\n",
       "      <td>SOWXJXQ12AB0189F43</td>\n",
       "      <td>Texta</td>\n",
       "      <td>Fernweh feat. Sektion Kuchikäschtli</td>\n",
       "    </tr>\n",
       "  </tbody>\n",
       "</table>\n",
       "<p>1000000 rows × 3 columns</p>\n",
       "</div>"
      ],
      "text/plain": [
       "                   song_id       artist_name  \\\n",
       "0       SOQMMHC12AB0180CB8  Faster Pussy cat   \n",
       "1       SOVFVAK12A8C1350D9  Karkkiautomaatti   \n",
       "2       SOGTUKN12AB017F4F1    Hudson Mohawke   \n",
       "3       SOBNYVR12A8C13558C       Yerba Brava   \n",
       "4       SOHSBXH12A8C13B0DF        Der Mystic   \n",
       "...                    ...               ...   \n",
       "999995  SOTXAME12AB018F136      Kiko Navarro   \n",
       "999996  SOXQYIQ12A8C137FBB     Kuldeep Manak   \n",
       "999997  SOHODZI12A8C137BB3    Gabriel Le Mar   \n",
       "999998  SOLXGOR12A81C21EB7             Elude   \n",
       "999999  SOWXJXQ12AB0189F43             Texta   \n",
       "\n",
       "                                      title  \n",
       "0                              Silent Night  \n",
       "1                               Tanssi vaan  \n",
       "2                         No One Could Ever  \n",
       "3                             Si Vos Querés  \n",
       "4                          Tangle Of Aspens  \n",
       "...                                     ...  \n",
       "999995                      O Samba Da Vida  \n",
       "999996                         Jago Chhadeo  \n",
       "999997                              Novemba  \n",
       "999998                              Faraday  \n",
       "999999  Fernweh feat. Sektion Kuchikäschtli  \n",
       "\n",
       "[1000000 rows x 3 columns]"
      ]
     },
     "execution_count": 4,
     "metadata": {},
     "output_type": "execute_result"
    }
   ],
   "source": [
    "song_df_2"
   ]
  },
  {
   "cell_type": "code",
   "execution_count": 5,
   "metadata": {
    "ExecuteTime": {
     "end_time": "2022-01-08T07:26:35.512640Z",
     "start_time": "2022-01-08T07:26:34.249019Z"
    }
   },
   "outputs": [],
   "source": [
    "song_df=pd.merge(song_df_1 , song_df_2.drop_duplicates(['song_id']) , on= 'song_id' , how ='left')"
   ]
  },
  {
   "cell_type": "code",
   "execution_count": 6,
   "metadata": {
    "ExecuteTime": {
     "end_time": "2022-01-08T07:26:35.528598Z",
     "start_time": "2022-01-08T07:26:35.513638Z"
    },
    "scrolled": true
   },
   "outputs": [
    {
     "data": {
      "text/html": [
       "<div>\n",
       "<style scoped>\n",
       "    .dataframe tbody tr th:only-of-type {\n",
       "        vertical-align: middle;\n",
       "    }\n",
       "\n",
       "    .dataframe tbody tr th {\n",
       "        vertical-align: top;\n",
       "    }\n",
       "\n",
       "    .dataframe thead th {\n",
       "        text-align: right;\n",
       "    }\n",
       "</style>\n",
       "<table border=\"1\" class=\"dataframe\">\n",
       "  <thead>\n",
       "    <tr style=\"text-align: right;\">\n",
       "      <th></th>\n",
       "      <th>user_id</th>\n",
       "      <th>song_id</th>\n",
       "      <th>listen_count</th>\n",
       "      <th>artist_name</th>\n",
       "      <th>title</th>\n",
       "    </tr>\n",
       "  </thead>\n",
       "  <tbody>\n",
       "    <tr>\n",
       "      <th>0</th>\n",
       "      <td>fd50c4007b68a3737fe052d5a4f78ce8aa117f3d</td>\n",
       "      <td>SOBONKR12A58A7A7E0</td>\n",
       "      <td>1</td>\n",
       "      <td>Dwight Yoakam</td>\n",
       "      <td>You're The One</td>\n",
       "    </tr>\n",
       "    <tr>\n",
       "      <th>1</th>\n",
       "      <td>fd50c4007b68a3737fe052d5a4f78ce8aa117f3d</td>\n",
       "      <td>SOEGIYH12A6D4FC0E3</td>\n",
       "      <td>1</td>\n",
       "      <td>Barry Tuckwell/Academy of St Martin-in-the-Fie...</td>\n",
       "      <td>Horn Concerto No. 4 in E flat K495: II. Romanc...</td>\n",
       "    </tr>\n",
       "    <tr>\n",
       "      <th>2</th>\n",
       "      <td>fd50c4007b68a3737fe052d5a4f78ce8aa117f3d</td>\n",
       "      <td>SOFLJQZ12A6D4FADA6</td>\n",
       "      <td>1</td>\n",
       "      <td>Cartola</td>\n",
       "      <td>Tive Sim</td>\n",
       "    </tr>\n",
       "    <tr>\n",
       "      <th>3</th>\n",
       "      <td>fd50c4007b68a3737fe052d5a4f78ce8aa117f3d</td>\n",
       "      <td>SOHTKMO12AB01843B0</td>\n",
       "      <td>1</td>\n",
       "      <td>Lonnie Gordon</td>\n",
       "      <td>Catch You Baby (Steve Pitron &amp; Max Sanna Radio...</td>\n",
       "    </tr>\n",
       "    <tr>\n",
       "      <th>4</th>\n",
       "      <td>fd50c4007b68a3737fe052d5a4f78ce8aa117f3d</td>\n",
       "      <td>SODQZCY12A6D4F9D11</td>\n",
       "      <td>1</td>\n",
       "      <td>Miguel Calo</td>\n",
       "      <td>El Cuatrero</td>\n",
       "    </tr>\n",
       "    <tr>\n",
       "      <th>...</th>\n",
       "      <td>...</td>\n",
       "      <td>...</td>\n",
       "      <td>...</td>\n",
       "      <td>...</td>\n",
       "      <td>...</td>\n",
       "    </tr>\n",
       "    <tr>\n",
       "      <th>1048570</th>\n",
       "      <td>90aeb21b2f36eb46d1c5d48fa030b4b8fa818b52</td>\n",
       "      <td>SOEPEVY12AB01822A1</td>\n",
       "      <td>2</td>\n",
       "      <td>De Saloon</td>\n",
       "      <td>Hombre muerto</td>\n",
       "    </tr>\n",
       "    <tr>\n",
       "      <th>1048571</th>\n",
       "      <td>90aeb21b2f36eb46d1c5d48fa030b4b8fa818b52</td>\n",
       "      <td>SOLHTJY12A58A7AFE7</td>\n",
       "      <td>1</td>\n",
       "      <td>Suicidal Tendencies</td>\n",
       "      <td>Go Skate! (Possessed To Skate '97)</td>\n",
       "    </tr>\n",
       "    <tr>\n",
       "      <th>1048572</th>\n",
       "      <td>90aeb21b2f36eb46d1c5d48fa030b4b8fa818b52</td>\n",
       "      <td>SODBAHE12A8C132D34</td>\n",
       "      <td>2</td>\n",
       "      <td>Shakira</td>\n",
       "      <td>Sombra De Ti</td>\n",
       "    </tr>\n",
       "    <tr>\n",
       "      <th>1048573</th>\n",
       "      <td>90aeb21b2f36eb46d1c5d48fa030b4b8fa818b52</td>\n",
       "      <td>SOAVWHY12AB017C6C0</td>\n",
       "      <td>3</td>\n",
       "      <td>The Killers</td>\n",
       "      <td>Losing Touch</td>\n",
       "    </tr>\n",
       "    <tr>\n",
       "      <th>1048574</th>\n",
       "      <td>90aeb21b2f36eb46d1c5d48fa030b4b8fa818b52</td>\n",
       "      <td>SOMYECL12A6701D9C8</td>\n",
       "      <td>1</td>\n",
       "      <td>Jack Johnson</td>\n",
       "      <td>Never Know</td>\n",
       "    </tr>\n",
       "  </tbody>\n",
       "</table>\n",
       "<p>1048575 rows × 5 columns</p>\n",
       "</div>"
      ],
      "text/plain": [
       "                                          user_id             song_id  \\\n",
       "0        fd50c4007b68a3737fe052d5a4f78ce8aa117f3d  SOBONKR12A58A7A7E0   \n",
       "1        fd50c4007b68a3737fe052d5a4f78ce8aa117f3d  SOEGIYH12A6D4FC0E3   \n",
       "2        fd50c4007b68a3737fe052d5a4f78ce8aa117f3d  SOFLJQZ12A6D4FADA6   \n",
       "3        fd50c4007b68a3737fe052d5a4f78ce8aa117f3d  SOHTKMO12AB01843B0   \n",
       "4        fd50c4007b68a3737fe052d5a4f78ce8aa117f3d  SODQZCY12A6D4F9D11   \n",
       "...                                           ...                 ...   \n",
       "1048570  90aeb21b2f36eb46d1c5d48fa030b4b8fa818b52  SOEPEVY12AB01822A1   \n",
       "1048571  90aeb21b2f36eb46d1c5d48fa030b4b8fa818b52  SOLHTJY12A58A7AFE7   \n",
       "1048572  90aeb21b2f36eb46d1c5d48fa030b4b8fa818b52  SODBAHE12A8C132D34   \n",
       "1048573  90aeb21b2f36eb46d1c5d48fa030b4b8fa818b52  SOAVWHY12AB017C6C0   \n",
       "1048574  90aeb21b2f36eb46d1c5d48fa030b4b8fa818b52  SOMYECL12A6701D9C8   \n",
       "\n",
       "         listen_count                                        artist_name  \\\n",
       "0                   1                                      Dwight Yoakam   \n",
       "1                   1  Barry Tuckwell/Academy of St Martin-in-the-Fie...   \n",
       "2                   1                                            Cartola   \n",
       "3                   1                                      Lonnie Gordon   \n",
       "4                   1                                        Miguel Calo   \n",
       "...               ...                                                ...   \n",
       "1048570             2                                          De Saloon   \n",
       "1048571             1                                Suicidal Tendencies   \n",
       "1048572             2                                            Shakira   \n",
       "1048573             3                                        The Killers   \n",
       "1048574             1                                       Jack Johnson   \n",
       "\n",
       "                                                     title  \n",
       "0                                           You're The One  \n",
       "1        Horn Concerto No. 4 in E flat K495: II. Romanc...  \n",
       "2                                                 Tive Sim  \n",
       "3        Catch You Baby (Steve Pitron & Max Sanna Radio...  \n",
       "4                                              El Cuatrero  \n",
       "...                                                    ...  \n",
       "1048570                                      Hombre muerto  \n",
       "1048571                 Go Skate! (Possessed To Skate '97)  \n",
       "1048572                                       Sombra De Ti  \n",
       "1048573                                       Losing Touch  \n",
       "1048574                                         Never Know  \n",
       "\n",
       "[1048575 rows x 5 columns]"
      ]
     },
     "execution_count": 6,
     "metadata": {},
     "output_type": "execute_result"
    }
   ],
   "source": [
    "song_df"
   ]
  },
  {
   "cell_type": "code",
   "execution_count": 7,
   "metadata": {
    "ExecuteTime": {
     "end_time": "2022-01-08T07:26:35.543558Z",
     "start_time": "2022-01-08T07:26:35.529595Z"
    }
   },
   "outputs": [
    {
     "name": "stdout",
     "output_type": "stream",
     "text": [
      "1048575 1000000\n"
     ]
    }
   ],
   "source": [
    "print(len(song_df_1),len(song_df_2))"
   ]
  },
  {
   "cell_type": "code",
   "execution_count": 8,
   "metadata": {
    "ExecuteTime": {
     "end_time": "2022-01-08T07:26:35.558517Z",
     "start_time": "2022-01-08T07:26:35.545554Z"
    }
   },
   "outputs": [
    {
     "data": {
      "text/plain": [
       "1048575"
      ]
     },
     "execution_count": 8,
     "metadata": {},
     "output_type": "execute_result"
    }
   ],
   "source": [
    "len(song_df)"
   ]
  },
  {
   "cell_type": "markdown",
   "metadata": {
    "ExecuteTime": {
     "end_time": "2022-01-08T06:38:01.483539Z",
     "start_time": "2022-01-08T06:38:00.972920Z"
    }
   },
   "source": [
    "# Data PreProcessing\n"
   ]
  },
  {
   "cell_type": "code",
   "execution_count": 9,
   "metadata": {
    "ExecuteTime": {
     "end_time": "2022-01-08T07:26:36.151931Z",
     "start_time": "2022-01-08T07:26:35.559517Z"
    }
   },
   "outputs": [
    {
     "data": {
      "text/html": [
       "<div>\n",
       "<style scoped>\n",
       "    .dataframe tbody tr th:only-of-type {\n",
       "        vertical-align: middle;\n",
       "    }\n",
       "\n",
       "    .dataframe tbody tr th {\n",
       "        vertical-align: top;\n",
       "    }\n",
       "\n",
       "    .dataframe thead th {\n",
       "        text-align: right;\n",
       "    }\n",
       "</style>\n",
       "<table border=\"1\" class=\"dataframe\">\n",
       "  <thead>\n",
       "    <tr style=\"text-align: right;\">\n",
       "      <th></th>\n",
       "      <th>user_id</th>\n",
       "      <th>song_id</th>\n",
       "      <th>listen_count</th>\n",
       "      <th>artist_name</th>\n",
       "      <th>title</th>\n",
       "      <th>song</th>\n",
       "    </tr>\n",
       "  </thead>\n",
       "  <tbody>\n",
       "    <tr>\n",
       "      <th>0</th>\n",
       "      <td>fd50c4007b68a3737fe052d5a4f78ce8aa117f3d</td>\n",
       "      <td>SOBONKR12A58A7A7E0</td>\n",
       "      <td>1</td>\n",
       "      <td>Dwight Yoakam</td>\n",
       "      <td>You're The One</td>\n",
       "      <td>You're The One - Dwight Yoakam</td>\n",
       "    </tr>\n",
       "    <tr>\n",
       "      <th>1</th>\n",
       "      <td>fd50c4007b68a3737fe052d5a4f78ce8aa117f3d</td>\n",
       "      <td>SOEGIYH12A6D4FC0E3</td>\n",
       "      <td>1</td>\n",
       "      <td>Barry Tuckwell/Academy of St Martin-in-the-Fie...</td>\n",
       "      <td>Horn Concerto No. 4 in E flat K495: II. Romanc...</td>\n",
       "      <td>Horn Concerto No. 4 in E flat K495: II. Romanc...</td>\n",
       "    </tr>\n",
       "    <tr>\n",
       "      <th>2</th>\n",
       "      <td>fd50c4007b68a3737fe052d5a4f78ce8aa117f3d</td>\n",
       "      <td>SOFLJQZ12A6D4FADA6</td>\n",
       "      <td>1</td>\n",
       "      <td>Cartola</td>\n",
       "      <td>Tive Sim</td>\n",
       "      <td>Tive Sim - Cartola</td>\n",
       "    </tr>\n",
       "    <tr>\n",
       "      <th>3</th>\n",
       "      <td>fd50c4007b68a3737fe052d5a4f78ce8aa117f3d</td>\n",
       "      <td>SOHTKMO12AB01843B0</td>\n",
       "      <td>1</td>\n",
       "      <td>Lonnie Gordon</td>\n",
       "      <td>Catch You Baby (Steve Pitron &amp; Max Sanna Radio...</td>\n",
       "      <td>Catch You Baby (Steve Pitron &amp; Max Sanna Radio...</td>\n",
       "    </tr>\n",
       "    <tr>\n",
       "      <th>4</th>\n",
       "      <td>fd50c4007b68a3737fe052d5a4f78ce8aa117f3d</td>\n",
       "      <td>SODQZCY12A6D4F9D11</td>\n",
       "      <td>1</td>\n",
       "      <td>Miguel Calo</td>\n",
       "      <td>El Cuatrero</td>\n",
       "      <td>El Cuatrero - Miguel Calo</td>\n",
       "    </tr>\n",
       "  </tbody>\n",
       "</table>\n",
       "</div>"
      ],
      "text/plain": [
       "                                    user_id             song_id  listen_count  \\\n",
       "0  fd50c4007b68a3737fe052d5a4f78ce8aa117f3d  SOBONKR12A58A7A7E0             1   \n",
       "1  fd50c4007b68a3737fe052d5a4f78ce8aa117f3d  SOEGIYH12A6D4FC0E3             1   \n",
       "2  fd50c4007b68a3737fe052d5a4f78ce8aa117f3d  SOFLJQZ12A6D4FADA6             1   \n",
       "3  fd50c4007b68a3737fe052d5a4f78ce8aa117f3d  SOHTKMO12AB01843B0             1   \n",
       "4  fd50c4007b68a3737fe052d5a4f78ce8aa117f3d  SODQZCY12A6D4F9D11             1   \n",
       "\n",
       "                                         artist_name  \\\n",
       "0                                      Dwight Yoakam   \n",
       "1  Barry Tuckwell/Academy of St Martin-in-the-Fie...   \n",
       "2                                            Cartola   \n",
       "3                                      Lonnie Gordon   \n",
       "4                                        Miguel Calo   \n",
       "\n",
       "                                               title  \\\n",
       "0                                     You're The One   \n",
       "1  Horn Concerto No. 4 in E flat K495: II. Romanc...   \n",
       "2                                           Tive Sim   \n",
       "3  Catch You Baby (Steve Pitron & Max Sanna Radio...   \n",
       "4                                        El Cuatrero   \n",
       "\n",
       "                                                song  \n",
       "0                     You're The One - Dwight Yoakam  \n",
       "1  Horn Concerto No. 4 in E flat K495: II. Romanc...  \n",
       "2                                 Tive Sim - Cartola  \n",
       "3  Catch You Baby (Steve Pitron & Max Sanna Radio...  \n",
       "4                          El Cuatrero - Miguel Calo  "
      ]
     },
     "execution_count": 9,
     "metadata": {},
     "output_type": "execute_result"
    }
   ],
   "source": [
    "song_df['song']= song_df['title'] + \" - \" + song_df['artist_name']\n",
    "song_df.head()"
   ]
  },
  {
   "cell_type": "code",
   "execution_count": 10,
   "metadata": {
    "ExecuteTime": {
     "end_time": "2022-01-08T07:26:36.701462Z",
     "start_time": "2022-01-08T07:26:36.152929Z"
    }
   },
   "outputs": [
    {
     "data": {
      "text/html": [
       "<div>\n",
       "<style scoped>\n",
       "    .dataframe tbody tr th:only-of-type {\n",
       "        vertical-align: middle;\n",
       "    }\n",
       "\n",
       "    .dataframe tbody tr th {\n",
       "        vertical-align: top;\n",
       "    }\n",
       "\n",
       "    .dataframe thead th {\n",
       "        text-align: right;\n",
       "    }\n",
       "</style>\n",
       "<table border=\"1\" class=\"dataframe\">\n",
       "  <thead>\n",
       "    <tr style=\"text-align: right;\">\n",
       "      <th></th>\n",
       "      <th>song</th>\n",
       "      <th>listen_count</th>\n",
       "    </tr>\n",
       "  </thead>\n",
       "  <tbody>\n",
       "    <tr>\n",
       "      <th>0</th>\n",
       "      <td>Ef Ég Hefði Aldrei... - Johann Johannsson</td>\n",
       "      <td>1</td>\n",
       "    </tr>\n",
       "    <tr>\n",
       "      <th>1</th>\n",
       "      <td>Light Mass Prayers\u001d",
       " - Porcupine Tree</td>\n",
       "      <td>4</td>\n",
       "    </tr>\n",
       "    <tr>\n",
       "      <th>2</th>\n",
       "      <td>The Arsonist Story\":  Evil Craves Attention/O...</td>\n",
       "      <td>1</td>\n",
       "    </tr>\n",
       "    <tr>\n",
       "      <th>3</th>\n",
       "      <td>Ég Átti Gráa Æsku - Johann Johannsson</td>\n",
       "      <td>4</td>\n",
       "    </tr>\n",
       "    <tr>\n",
       "      <th>4</th>\n",
       "      <td>(Jack The Stripper) - Nekromantix</td>\n",
       "      <td>1</td>\n",
       "    </tr>\n",
       "  </tbody>\n",
       "</table>\n",
       "</div>"
      ],
      "text/plain": [
       "                                                song  listen_count\n",
       "0         \n",
       "Ef Ég Hefði Aldrei... - Johann Johannsson             1\n",
       "1              \n",
       "Light Mass Prayers\n",
       " - Porcupine Tree             4\n",
       "2  \n",
       "The Arsonist Story\":  Evil Craves Attention/O...             1\n",
       "3             \n",
       "Ég Átti Gráa Æsku - Johann Johannsson             4\n",
       "4                  (Jack The Stripper) - Nekromantix             1"
      ]
     },
     "execution_count": 10,
     "metadata": {},
     "output_type": "execute_result"
    }
   ],
   "source": [
    "#cummulative sum of listen count\n",
    "song_grouped=song_df.groupby(['song']).agg({'listen_count':'count'}).reset_index()\n",
    "song_grouped.head()"
   ]
  },
  {
   "cell_type": "code",
   "execution_count": 11,
   "metadata": {
    "ExecuteTime": {
     "end_time": "2022-01-08T07:26:36.922870Z",
     "start_time": "2022-01-08T07:26:36.702459Z"
    }
   },
   "outputs": [
    {
     "data": {
      "text/html": [
       "<div>\n",
       "<style scoped>\n",
       "    .dataframe tbody tr th:only-of-type {\n",
       "        vertical-align: middle;\n",
       "    }\n",
       "\n",
       "    .dataframe tbody tr th {\n",
       "        vertical-align: top;\n",
       "    }\n",
       "\n",
       "    .dataframe thead th {\n",
       "        text-align: right;\n",
       "    }\n",
       "</style>\n",
       "<table border=\"1\" class=\"dataframe\">\n",
       "  <thead>\n",
       "    <tr style=\"text-align: right;\">\n",
       "      <th></th>\n",
       "      <th>song</th>\n",
       "      <th>listen_count</th>\n",
       "      <th>percentage</th>\n",
       "    </tr>\n",
       "  </thead>\n",
       "  <tbody>\n",
       "    <tr>\n",
       "      <th>0</th>\n",
       "      <td>Ef Ég Hefði Aldrei... - Johann Johannsson</td>\n",
       "      <td>1</td>\n",
       "      <td>0.000095</td>\n",
       "    </tr>\n",
       "    <tr>\n",
       "      <th>2</th>\n",
       "      <td>The Arsonist Story\":  Evil Craves Attention/O...</td>\n",
       "      <td>1</td>\n",
       "      <td>0.000095</td>\n",
       "    </tr>\n",
       "    <tr>\n",
       "      <th>4</th>\n",
       "      <td>(Jack The Stripper) - Nekromantix</td>\n",
       "      <td>1</td>\n",
       "      <td>0.000095</td>\n",
       "    </tr>\n",
       "    <tr>\n",
       "      <th>5</th>\n",
       "      <td>Country Song - Jaguar Wright</td>\n",
       "      <td>1</td>\n",
       "      <td>0.000095</td>\n",
       "    </tr>\n",
       "    <tr>\n",
       "      <th>9</th>\n",
       "      <td>You - Simple Kid</td>\n",
       "      <td>1</td>\n",
       "      <td>0.000095</td>\n",
       "    </tr>\n",
       "    <tr>\n",
       "      <th>...</th>\n",
       "      <td>...</td>\n",
       "      <td>...</td>\n",
       "      <td>...</td>\n",
       "    </tr>\n",
       "    <tr>\n",
       "      <th>96990</th>\n",
       "      <td>Revelry - Kings Of Leon</td>\n",
       "      <td>2645</td>\n",
       "      <td>0.252247</td>\n",
       "    </tr>\n",
       "    <tr>\n",
       "      <th>29399</th>\n",
       "      <td>Dog Days Are Over (Radio Edit) - Florence + Th...</td>\n",
       "      <td>2711</td>\n",
       "      <td>0.258542</td>\n",
       "    </tr>\n",
       "    <tr>\n",
       "      <th>140515</th>\n",
       "      <td>You're The One - Dwight Yoakam</td>\n",
       "      <td>2986</td>\n",
       "      <td>0.284768</td>\n",
       "    </tr>\n",
       "    <tr>\n",
       "      <th>129464</th>\n",
       "      <td>Undo - Björk</td>\n",
       "      <td>3237</td>\n",
       "      <td>0.308705</td>\n",
       "    </tr>\n",
       "    <tr>\n",
       "      <th>102025</th>\n",
       "      <td>Sehr kosmisch - Harmonia</td>\n",
       "      <td>3694</td>\n",
       "      <td>0.352288</td>\n",
       "    </tr>\n",
       "  </tbody>\n",
       "</table>\n",
       "<p>141954 rows × 3 columns</p>\n",
       "</div>"
      ],
      "text/plain": [
       "                                                     song  listen_count  \\\n",
       "0              \n",
       "Ef Ég Hefði Aldrei... - Johann Johannsson             1   \n",
       "2       \n",
       "The Arsonist Story\":  Evil Craves Attention/O...             1   \n",
       "4                       (Jack The Stripper) - Nekromantix             1   \n",
       "5                            Country Song - Jaguar Wright             1   \n",
       "9                                        You - Simple Kid             1   \n",
       "...                                                   ...           ...   \n",
       "96990                             Revelry - Kings Of Leon          2645   \n",
       "29399   Dog Days Are Over (Radio Edit) - Florence + Th...          2711   \n",
       "140515                     You're The One - Dwight Yoakam          2986   \n",
       "129464                                       Undo - Björk          3237   \n",
       "102025                           Sehr kosmisch - Harmonia          3694   \n",
       "\n",
       "        percentage  \n",
       "0         0.000095  \n",
       "2         0.000095  \n",
       "4         0.000095  \n",
       "5         0.000095  \n",
       "9         0.000095  \n",
       "...            ...  \n",
       "96990     0.252247  \n",
       "29399     0.258542  \n",
       "140515    0.284768  \n",
       "129464    0.308705  \n",
       "102025    0.352288  \n",
       "\n",
       "[141954 rows x 3 columns]"
      ]
     },
     "execution_count": 11,
     "metadata": {},
     "output_type": "execute_result"
    }
   ],
   "source": [
    "grouped_sum=song_grouped['listen_count'].sum()\n",
    "song_grouped['percentage']=(song_grouped['listen_count']/grouped_sum) * 100\n",
    "song_grouped.sort_values(['listen_count','song'])"
   ]
  },
  {
   "cell_type": "markdown",
   "metadata": {},
   "source": [
    "# Popularity Recommendation Engine"
   ]
  },
  {
   "cell_type": "code",
   "execution_count": 12,
   "metadata": {
    "ExecuteTime": {
     "end_time": "2022-01-08T07:26:36.937830Z",
     "start_time": "2022-01-08T07:26:36.923867Z"
    }
   },
   "outputs": [],
   "source": [
    "pr=recommenders.popularity_recommender_py()"
   ]
  },
  {
   "cell_type": "code",
   "execution_count": 13,
   "metadata": {
    "ExecuteTime": {
     "end_time": "2022-01-08T07:26:37.511296Z",
     "start_time": "2022-01-08T07:26:36.939825Z"
    }
   },
   "outputs": [],
   "source": [
    "pr.create(song_df,'user_id','song')"
   ]
  },
  {
   "cell_type": "code",
   "execution_count": 14,
   "metadata": {
    "ExecuteTime": {
     "end_time": "2022-01-08T07:26:37.527254Z",
     "start_time": "2022-01-08T07:26:37.512293Z"
    }
   },
   "outputs": [
    {
     "data": {
      "text/html": [
       "<div>\n",
       "<style scoped>\n",
       "    .dataframe tbody tr th:only-of-type {\n",
       "        vertical-align: middle;\n",
       "    }\n",
       "\n",
       "    .dataframe tbody tr th {\n",
       "        vertical-align: top;\n",
       "    }\n",
       "\n",
       "    .dataframe thead th {\n",
       "        text-align: right;\n",
       "    }\n",
       "</style>\n",
       "<table border=\"1\" class=\"dataframe\">\n",
       "  <thead>\n",
       "    <tr style=\"text-align: right;\">\n",
       "      <th></th>\n",
       "      <th>user_id</th>\n",
       "      <th>song</th>\n",
       "      <th>score</th>\n",
       "      <th>Rank</th>\n",
       "    </tr>\n",
       "  </thead>\n",
       "  <tbody>\n",
       "    <tr>\n",
       "      <th>102025</th>\n",
       "      <td>fd50c4007b68a3737fe052d5a4f78ce8aa117f3d</td>\n",
       "      <td>Sehr kosmisch - Harmonia</td>\n",
       "      <td>3694</td>\n",
       "      <td>1.0</td>\n",
       "    </tr>\n",
       "    <tr>\n",
       "      <th>129464</th>\n",
       "      <td>fd50c4007b68a3737fe052d5a4f78ce8aa117f3d</td>\n",
       "      <td>Undo - Björk</td>\n",
       "      <td>3237</td>\n",
       "      <td>2.0</td>\n",
       "    </tr>\n",
       "    <tr>\n",
       "      <th>140515</th>\n",
       "      <td>fd50c4007b68a3737fe052d5a4f78ce8aa117f3d</td>\n",
       "      <td>You're The One - Dwight Yoakam</td>\n",
       "      <td>2986</td>\n",
       "      <td>3.0</td>\n",
       "    </tr>\n",
       "    <tr>\n",
       "      <th>29399</th>\n",
       "      <td>fd50c4007b68a3737fe052d5a4f78ce8aa117f3d</td>\n",
       "      <td>Dog Days Are Over (Radio Edit) - Florence + Th...</td>\n",
       "      <td>2711</td>\n",
       "      <td>4.0</td>\n",
       "    </tr>\n",
       "    <tr>\n",
       "      <th>96990</th>\n",
       "      <td>fd50c4007b68a3737fe052d5a4f78ce8aa117f3d</td>\n",
       "      <td>Revelry - Kings Of Leon</td>\n",
       "      <td>2645</td>\n",
       "      <td>5.0</td>\n",
       "    </tr>\n",
       "    <tr>\n",
       "      <th>101811</th>\n",
       "      <td>fd50c4007b68a3737fe052d5a4f78ce8aa117f3d</td>\n",
       "      <td>Secrets - OneRepublic</td>\n",
       "      <td>2522</td>\n",
       "      <td>6.0</td>\n",
       "    </tr>\n",
       "    <tr>\n",
       "      <th>50917</th>\n",
       "      <td>fd50c4007b68a3737fe052d5a4f78ce8aa117f3d</td>\n",
       "      <td>Horn Concerto No. 4 in E flat K495: II. Romanc...</td>\n",
       "      <td>2397</td>\n",
       "      <td>7.0</td>\n",
       "    </tr>\n",
       "    <tr>\n",
       "      <th>49375</th>\n",
       "      <td>fd50c4007b68a3737fe052d5a4f78ce8aa117f3d</td>\n",
       "      <td>Hey_ Soul Sister - Train</td>\n",
       "      <td>2049</td>\n",
       "      <td>8.0</td>\n",
       "    </tr>\n",
       "    <tr>\n",
       "      <th>38694</th>\n",
       "      <td>fd50c4007b68a3737fe052d5a4f78ce8aa117f3d</td>\n",
       "      <td>Fireflies - Charttraxx Karaoke</td>\n",
       "      <td>1985</td>\n",
       "      <td>9.0</td>\n",
       "    </tr>\n",
       "    <tr>\n",
       "      <th>125315</th>\n",
       "      <td>fd50c4007b68a3737fe052d5a4f78ce8aa117f3d</td>\n",
       "      <td>Tive Sim - Cartola</td>\n",
       "      <td>1936</td>\n",
       "      <td>10.0</td>\n",
       "    </tr>\n",
       "  </tbody>\n",
       "</table>\n",
       "</div>"
      ],
      "text/plain": [
       "                                         user_id  \\\n",
       "102025  fd50c4007b68a3737fe052d5a4f78ce8aa117f3d   \n",
       "129464  fd50c4007b68a3737fe052d5a4f78ce8aa117f3d   \n",
       "140515  fd50c4007b68a3737fe052d5a4f78ce8aa117f3d   \n",
       "29399   fd50c4007b68a3737fe052d5a4f78ce8aa117f3d   \n",
       "96990   fd50c4007b68a3737fe052d5a4f78ce8aa117f3d   \n",
       "101811  fd50c4007b68a3737fe052d5a4f78ce8aa117f3d   \n",
       "50917   fd50c4007b68a3737fe052d5a4f78ce8aa117f3d   \n",
       "49375   fd50c4007b68a3737fe052d5a4f78ce8aa117f3d   \n",
       "38694   fd50c4007b68a3737fe052d5a4f78ce8aa117f3d   \n",
       "125315  fd50c4007b68a3737fe052d5a4f78ce8aa117f3d   \n",
       "\n",
       "                                                     song  score  Rank  \n",
       "102025                           Sehr kosmisch - Harmonia   3694   1.0  \n",
       "129464                                       Undo - Björk   3237   2.0  \n",
       "140515                     You're The One - Dwight Yoakam   2986   3.0  \n",
       "29399   Dog Days Are Over (Radio Edit) - Florence + Th...   2711   4.0  \n",
       "96990                             Revelry - Kings Of Leon   2645   5.0  \n",
       "101811                              Secrets - OneRepublic   2522   6.0  \n",
       "50917   Horn Concerto No. 4 in E flat K495: II. Romanc...   2397   7.0  \n",
       "49375                            Hey_ Soul Sister - Train   2049   8.0  \n",
       "38694                      Fireflies - Charttraxx Karaoke   1985   9.0  \n",
       "125315                                 Tive Sim - Cartola   1936  10.0  "
      ]
     },
     "execution_count": 14,
     "metadata": {},
     "output_type": "execute_result"
    }
   ],
   "source": [
    "pr.recommend(song_df['user_id'][5])"
   ]
  },
  {
   "cell_type": "code",
   "execution_count": 15,
   "metadata": {
    "ExecuteTime": {
     "end_time": "2022-01-08T07:26:37.543212Z",
     "start_time": "2022-01-08T07:26:37.528251Z"
    }
   },
   "outputs": [
    {
     "data": {
      "text/html": [
       "<div>\n",
       "<style scoped>\n",
       "    .dataframe tbody tr th:only-of-type {\n",
       "        vertical-align: middle;\n",
       "    }\n",
       "\n",
       "    .dataframe tbody tr th {\n",
       "        vertical-align: top;\n",
       "    }\n",
       "\n",
       "    .dataframe thead th {\n",
       "        text-align: right;\n",
       "    }\n",
       "</style>\n",
       "<table border=\"1\" class=\"dataframe\">\n",
       "  <thead>\n",
       "    <tr style=\"text-align: right;\">\n",
       "      <th></th>\n",
       "      <th>user_id</th>\n",
       "      <th>song</th>\n",
       "      <th>score</th>\n",
       "      <th>Rank</th>\n",
       "    </tr>\n",
       "  </thead>\n",
       "  <tbody>\n",
       "    <tr>\n",
       "      <th>102025</th>\n",
       "      <td>d7083f5e1d50c264277d624340edaaf3dc16095b</td>\n",
       "      <td>Sehr kosmisch - Harmonia</td>\n",
       "      <td>3694</td>\n",
       "      <td>1.0</td>\n",
       "    </tr>\n",
       "    <tr>\n",
       "      <th>129464</th>\n",
       "      <td>d7083f5e1d50c264277d624340edaaf3dc16095b</td>\n",
       "      <td>Undo - Björk</td>\n",
       "      <td>3237</td>\n",
       "      <td>2.0</td>\n",
       "    </tr>\n",
       "    <tr>\n",
       "      <th>140515</th>\n",
       "      <td>d7083f5e1d50c264277d624340edaaf3dc16095b</td>\n",
       "      <td>You're The One - Dwight Yoakam</td>\n",
       "      <td>2986</td>\n",
       "      <td>3.0</td>\n",
       "    </tr>\n",
       "    <tr>\n",
       "      <th>29399</th>\n",
       "      <td>d7083f5e1d50c264277d624340edaaf3dc16095b</td>\n",
       "      <td>Dog Days Are Over (Radio Edit) - Florence + Th...</td>\n",
       "      <td>2711</td>\n",
       "      <td>4.0</td>\n",
       "    </tr>\n",
       "    <tr>\n",
       "      <th>96990</th>\n",
       "      <td>d7083f5e1d50c264277d624340edaaf3dc16095b</td>\n",
       "      <td>Revelry - Kings Of Leon</td>\n",
       "      <td>2645</td>\n",
       "      <td>5.0</td>\n",
       "    </tr>\n",
       "    <tr>\n",
       "      <th>101811</th>\n",
       "      <td>d7083f5e1d50c264277d624340edaaf3dc16095b</td>\n",
       "      <td>Secrets - OneRepublic</td>\n",
       "      <td>2522</td>\n",
       "      <td>6.0</td>\n",
       "    </tr>\n",
       "    <tr>\n",
       "      <th>50917</th>\n",
       "      <td>d7083f5e1d50c264277d624340edaaf3dc16095b</td>\n",
       "      <td>Horn Concerto No. 4 in E flat K495: II. Romanc...</td>\n",
       "      <td>2397</td>\n",
       "      <td>7.0</td>\n",
       "    </tr>\n",
       "    <tr>\n",
       "      <th>49375</th>\n",
       "      <td>d7083f5e1d50c264277d624340edaaf3dc16095b</td>\n",
       "      <td>Hey_ Soul Sister - Train</td>\n",
       "      <td>2049</td>\n",
       "      <td>8.0</td>\n",
       "    </tr>\n",
       "    <tr>\n",
       "      <th>38694</th>\n",
       "      <td>d7083f5e1d50c264277d624340edaaf3dc16095b</td>\n",
       "      <td>Fireflies - Charttraxx Karaoke</td>\n",
       "      <td>1985</td>\n",
       "      <td>9.0</td>\n",
       "    </tr>\n",
       "    <tr>\n",
       "      <th>125315</th>\n",
       "      <td>d7083f5e1d50c264277d624340edaaf3dc16095b</td>\n",
       "      <td>Tive Sim - Cartola</td>\n",
       "      <td>1936</td>\n",
       "      <td>10.0</td>\n",
       "    </tr>\n",
       "  </tbody>\n",
       "</table>\n",
       "</div>"
      ],
      "text/plain": [
       "                                         user_id  \\\n",
       "102025  d7083f5e1d50c264277d624340edaaf3dc16095b   \n",
       "129464  d7083f5e1d50c264277d624340edaaf3dc16095b   \n",
       "140515  d7083f5e1d50c264277d624340edaaf3dc16095b   \n",
       "29399   d7083f5e1d50c264277d624340edaaf3dc16095b   \n",
       "96990   d7083f5e1d50c264277d624340edaaf3dc16095b   \n",
       "101811  d7083f5e1d50c264277d624340edaaf3dc16095b   \n",
       "50917   d7083f5e1d50c264277d624340edaaf3dc16095b   \n",
       "49375   d7083f5e1d50c264277d624340edaaf3dc16095b   \n",
       "38694   d7083f5e1d50c264277d624340edaaf3dc16095b   \n",
       "125315  d7083f5e1d50c264277d624340edaaf3dc16095b   \n",
       "\n",
       "                                                     song  score  Rank  \n",
       "102025                           Sehr kosmisch - Harmonia   3694   1.0  \n",
       "129464                                       Undo - Björk   3237   2.0  \n",
       "140515                     You're The One - Dwight Yoakam   2986   3.0  \n",
       "29399   Dog Days Are Over (Radio Edit) - Florence + Th...   2711   4.0  \n",
       "96990                             Revelry - Kings Of Leon   2645   5.0  \n",
       "101811                              Secrets - OneRepublic   2522   6.0  \n",
       "50917   Horn Concerto No. 4 in E flat K495: II. Romanc...   2397   7.0  \n",
       "49375                            Hey_ Soul Sister - Train   2049   8.0  \n",
       "38694                      Fireflies - Charttraxx Karaoke   1985   9.0  \n",
       "125315                                 Tive Sim - Cartola   1936  10.0  "
      ]
     },
     "execution_count": 15,
     "metadata": {},
     "output_type": "execute_result"
    }
   ],
   "source": [
    "pr.recommend(song_df['user_id'][10])"
   ]
  },
  {
   "cell_type": "markdown",
   "metadata": {},
   "source": [
    "# Item Similarity Recommendation"
   ]
  },
  {
   "cell_type": "code",
   "execution_count": 16,
   "metadata": {
    "ExecuteTime": {
     "end_time": "2022-01-08T07:26:37.559190Z",
     "start_time": "2022-01-08T07:26:37.545219Z"
    }
   },
   "outputs": [],
   "source": [
    "ir=recommenders.item_similarity_recommender_py()"
   ]
  },
  {
   "cell_type": "code",
   "execution_count": 17,
   "metadata": {
    "ExecuteTime": {
     "end_time": "2022-01-08T07:26:37.574128Z",
     "start_time": "2022-01-08T07:26:37.561164Z"
    }
   },
   "outputs": [],
   "source": [
    "ir.create(song_df,'user_id','song')"
   ]
  },
  {
   "cell_type": "code",
   "execution_count": 18,
   "metadata": {
    "ExecuteTime": {
     "end_time": "2022-01-08T07:26:37.634966Z",
     "start_time": "2022-01-08T07:26:37.575135Z"
    }
   },
   "outputs": [],
   "source": [
    "user_items= ir.get_user_items(song_df['user_id'][5])"
   ]
  },
  {
   "cell_type": "code",
   "execution_count": 19,
   "metadata": {
    "ExecuteTime": {
     "end_time": "2022-01-08T07:26:37.649925Z",
     "start_time": "2022-01-08T07:26:37.635964Z"
    }
   },
   "outputs": [
    {
     "name": "stdout",
     "output_type": "stream",
     "text": [
      "You're The One - Dwight Yoakam\n",
      "Horn Concerto No. 4 in E flat K495: II. Romance (Andante cantabile) - Barry Tuckwell/Academy of St Martin-in-the-Fields/Sir Neville Marriner\n",
      "Tive Sim - Cartola\n",
      "Catch You Baby (Steve Pitron & Max Sanna Radio Edit) - Lonnie Gordon\n",
      "El Cuatrero - Miguel Calo\n",
      "Unite (2009 Digital Remaster) - Beastie Boys\n"
     ]
    }
   ],
   "source": [
    "for user_items in user_items:\n",
    "    print (user_items)"
   ]
  },
  {
   "cell_type": "code",
   "execution_count": 20,
   "metadata": {
    "ExecuteTime": {
     "end_time": "2022-01-08T07:26:37.729713Z",
     "start_time": "2022-01-08T07:26:37.650924Z"
    }
   },
   "outputs": [],
   "source": [
    "user_items= ir.get_user_items(song_df['user_id'][10])"
   ]
  },
  {
   "cell_type": "code",
   "execution_count": 21,
   "metadata": {
    "ExecuteTime": {
     "end_time": "2022-01-08T07:26:37.745670Z",
     "start_time": "2022-01-08T07:26:37.730724Z"
    }
   },
   "outputs": [
    {
     "name": "stdout",
     "output_type": "stream",
     "text": [
      "Lift Me Up - Moby\n",
      "Living In A Lie - Guano Apes\n",
      "Open Your Eyes - Guano Apes\n",
      "Kurtizana - UDG\n",
      "Happy Hour Hero - moe.\n",
      "Dreamcatcher - Bahramji & Maneesh De Moor\n",
      "Sleep Sound In Jesus - Michael Card\n",
      "Space Cowboy - Jamiroquai\n",
      "Mine All Mine - Guano Apes\n",
      "Rain - Guano Apes\n",
      "She's My Heroine - Skunk Anansie\n",
      "Ain't Got Time - Guano Apes\n",
      "Bullet With Butterfly Wings (smashing Pumpkins Cover) - Skinlab\n",
      "Crossing The Deadline - Guano Apes\n",
      "Little L - Jamiroquai\n",
      "Big In Japan - Guano Apes\n"
     ]
    }
   ],
   "source": [
    "for user_items in user_items:\n",
    "    print (user_items)"
   ]
  },
  {
   "cell_type": "code",
   "execution_count": 22,
   "metadata": {
    "ExecuteTime": {
     "end_time": "2022-01-08T07:26:37.808502Z",
     "start_time": "2022-01-08T07:26:37.747664Z"
    }
   },
   "outputs": [],
   "source": [
    "user_items= ir.get_user_items(song_df['user_id'][100])"
   ]
  },
  {
   "cell_type": "code",
   "execution_count": 23,
   "metadata": {
    "ExecuteTime": {
     "end_time": "2022-01-08T07:26:37.839419Z",
     "start_time": "2022-01-08T07:26:37.830443Z"
    }
   },
   "outputs": [
    {
     "name": "stdout",
     "output_type": "stream",
     "text": [
      "Ballad Of Big Nothing - Elliott Smith\n",
      "My Paper Heart - The All-American Rejects\n",
      "We're All Gonna Die (featuring Iggy Pop) - Slash\n",
      "Saint Is A Sinner (featuring Rocco DeLuca) - Slash\n",
      "I Hold On (featuring Kid Rock) - Slash\n",
      "Alphabet Town - Elliott Smith\n",
      "Nothing To Say (featuring M. Shadows) - Slash\n",
      "Gotten (featuring Adam Levine) - Slash\n",
      "The Golden Rose (Album Version) - Tom Petty\n",
      "Genius - Kings Of Leon\n"
     ]
    }
   ],
   "source": [
    "for user_items in user_items:\n",
    "    print (user_items)"
   ]
  },
  {
   "cell_type": "code",
   "execution_count": null,
   "metadata": {
    "ExecuteTime": {
     "start_time": "2022-01-08T07:28:32.481Z"
    }
   },
   "outputs": [
    {
     "name": "stdout",
     "output_type": "stream",
     "text": [
      "No. of unique songs for the user: 6\n",
      "no. of unique songs in the training set: 141955\n"
     ]
    }
   ],
   "source": [
    "ir.recommend(song_df['user_id'][5])"
   ]
  },
  {
   "cell_type": "code",
   "execution_count": null,
   "metadata": {
    "ExecuteTime": {
     "end_time": "2022-01-08T07:28:26.867673Z",
     "start_time": "2022-01-08T07:26:32.403Z"
    }
   },
   "outputs": [],
   "source": [
    "ir.recommend(song_df['user_id'][10])"
   ]
  },
  {
   "cell_type": "code",
   "execution_count": null,
   "metadata": {
    "ExecuteTime": {
     "end_time": "2022-01-08T07:28:26.867673Z",
     "start_time": "2022-01-08T07:26:32.403Z"
    }
   },
   "outputs": [],
   "source": [
    "ir.recommend(song_df['user_id'][100])"
   ]
  },
  {
   "cell_type": "code",
   "execution_count": null,
   "metadata": {
    "ExecuteTime": {
     "end_time": "2022-01-08T07:28:26.868664Z",
     "start_time": "2022-01-08T07:26:32.404Z"
    }
   },
   "outputs": [],
   "source": [
    "ir.get_similar_items(['We re All Gonna Die (featuring Iggy Pop) - Slash'])"
   ]
  },
  {
   "cell_type": "code",
   "execution_count": null,
   "metadata": {},
   "outputs": [],
   "source": []
  },
  {
   "cell_type": "code",
   "execution_count": null,
   "metadata": {},
   "outputs": [],
   "source": []
  },
  {
   "cell_type": "code",
   "execution_count": null,
   "metadata": {},
   "outputs": [],
   "source": []
  }
 ],
 "metadata": {
  "kernelspec": {
   "display_name": "Python 3",
   "language": "python",
   "name": "python3"
  },
  "language_info": {
   "codemirror_mode": {
    "name": "ipython",
    "version": 3
   },
   "file_extension": ".py",
   "mimetype": "text/x-python",
   "name": "python",
   "nbconvert_exporter": "python",
   "pygments_lexer": "ipython3",
   "version": "3.8.3"
  },
  "varInspector": {
   "cols": {
    "lenName": 16,
    "lenType": 16,
    "lenVar": 40
   },
   "kernels_config": {
    "python": {
     "delete_cmd_postfix": "",
     "delete_cmd_prefix": "del ",
     "library": "var_list.py",
     "varRefreshCmd": "print(var_dic_list())"
    },
    "r": {
     "delete_cmd_postfix": ") ",
     "delete_cmd_prefix": "rm(",
     "library": "var_list.r",
     "varRefreshCmd": "cat(var_dic_list()) "
    }
   },
   "types_to_exclude": [
    "module",
    "function",
    "builtin_function_or_method",
    "instance",
    "_Feature"
   ],
   "window_display": false
  }
 },
 "nbformat": 4,
 "nbformat_minor": 4
}
